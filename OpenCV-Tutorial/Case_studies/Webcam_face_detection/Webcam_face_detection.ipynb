{
 "cells": [
  {
   "cell_type": "markdown",
   "metadata": {
    "toc": true
   },
   "source": [
    "<h1>Table of Contents<span class=\"tocSkip\"></span></h1>\n",
    "<div class=\"toc\"><ul class=\"toc-item\"></ul></div>"
   ]
  },
  {
   "cell_type": "markdown",
   "metadata": {},
   "source": [
    "# Webcam face detection"
   ]
  },
  {
   "cell_type": "code",
   "execution_count": 3,
   "metadata": {},
   "outputs": [],
   "source": [
    "import imutils\n",
    "import cv2\n",
    "from facedetector import FaceDetector\n",
    "import matplotlib.pyplot as plt\n",
    "\n",
    "color = (0, 255, 0)  # color of drawn rectangles: green\n",
    "thickness = 2  # thickness of drawn rectangles\n",
    "\n",
    "detector = FaceDetector('cascades/haarcascade_frontalface_default.xml')\n",
    "video = cv2.VideoCapture('video.mov')  # video from file\n",
    "video = cv2.VideoCapture(0)  # video from webcam\n",
    "\n",
    "while True:\n",
    "    (grabbed, frame) = video.read()\n",
    "    if not grabbed:  # stop while loop when video ends\n",
    "        break\n",
    "    frame = imutils.resize(frame, width = 300)\n",
    "    faceRects = detector.detect(frame, scaleFactor=1.1, minNeighbors=5, minSize=(30, 30))\n",
    "    \n",
    "    for fX, fY, fW, fH in faceRects:\n",
    "        cv2.rectangle(frame, (fX, fY), (fX+fW, fY+fH), color, thickness)\n",
    "    cv2.imshow('Face', frame)\n",
    "    \n",
    "    if cv2.waitKey(1) & 0xFF == ord('q'):  # press q-key to terminate the script\n",
    "        break\n",
    "        \n",
    "video.release()\n",
    "cv2.destroyAllWindows()"
   ]
  }
 ],
 "metadata": {
  "kernelspec": {
   "display_name": "EnBW_kernel",
   "language": "python",
   "name": "enbw_kernel"
  },
  "language_info": {
   "codemirror_mode": {
    "name": "ipython",
    "version": 3
   },
   "file_extension": ".py",
   "mimetype": "text/x-python",
   "name": "python",
   "nbconvert_exporter": "python",
   "pygments_lexer": "ipython3",
   "version": "3.6.5"
  },
  "toc": {
   "base_numbering": 1,
   "nav_menu": {},
   "number_sections": true,
   "sideBar": true,
   "skip_h1_title": true,
   "title_cell": "Table of Contents",
   "title_sidebar": "Contents",
   "toc_cell": true,
   "toc_position": {},
   "toc_section_display": true,
   "toc_window_display": false
  }
 },
 "nbformat": 4,
 "nbformat_minor": 2
}
