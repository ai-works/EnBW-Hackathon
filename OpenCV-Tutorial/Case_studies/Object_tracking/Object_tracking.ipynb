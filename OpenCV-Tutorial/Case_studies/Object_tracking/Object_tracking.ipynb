{
 "cells": [
  {
   "cell_type": "markdown",
   "metadata": {
    "toc": true
   },
   "source": [
    "<h1>Table of Contents<span class=\"tocSkip\"></span></h1>\n",
    "<div class=\"toc\"><ul class=\"toc-item\"></ul></div>"
   ]
  },
  {
   "cell_type": "markdown",
   "metadata": {},
   "source": [
    "# Object tracking\n",
    "- using a color range in which the object lies"
   ]
  },
  {
   "cell_type": "code",
   "execution_count": 1,
   "metadata": {},
   "outputs": [],
   "source": [
    "import numpy as np\n",
    "import cv2\n",
    "\n",
    "blueLower = np.array([100, 67, 0], dtype='uint8')\n",
    "blueUpper = np.array([255, 128, 50], dtype='uint8')\n",
    "\n",
    "video = cv2.VideoCapture('video.mov')  # video from file\n",
    "video = cv2.VideoCapture(0)  # video from webcam\n",
    "\n",
    "while True:\n",
    "    (grabbed, frame) = video.read()\n",
    "    \n",
    "    if not grabbed:\n",
    "        break\n",
    "        \n",
    "    blue = cv2.inRange(frame, blueLower, blueUpper)\n",
    "    blue = cv2.GaussianBlur(blue, (3, 3), 0)\n",
    "    \n",
    "    _, contours, _ = cv2.findContours(\n",
    "        blue.copy(),\n",
    "        cv2.RETR_EXTERNAL,\n",
    "        cv2.CHAIN_APPROX_SIMPLE)\n",
    "    \n",
    "    if len(contours) > 0:\n",
    "        contour = sorted(contours, key=cv2.contourArea, reverse=True)[0]  # take only largest contour into account\n",
    "        rectangle = np.int32(cv2.boxPoints(cv2.minAreaRect(contour)))  # compute minimum bounding box around contour\n",
    "        cv2.drawContours(frame, [rectangle], -1, (0, 255, 0), 2)  # draw bounding box\n",
    "        \n",
    "    cv2.imshow('Tracking', frame)\n",
    "    cv2.imshow('Binary', blue)\n",
    "    \n",
    "    if cv2.waitKey(1) & 0xFF == ord('q'):\n",
    "        break\n",
    "        \n",
    "video.release()\n",
    "cv2.destroyAllWindows()"
   ]
  }
 ],
 "metadata": {
  "kernelspec": {
   "display_name": "EnBW_kernel",
   "language": "python",
   "name": "enbw_kernel"
  },
  "language_info": {
   "codemirror_mode": {
    "name": "ipython",
    "version": 3
   },
   "file_extension": ".py",
   "mimetype": "text/x-python",
   "name": "python",
   "nbconvert_exporter": "python",
   "pygments_lexer": "ipython3",
   "version": "3.6.5"
  },
  "toc": {
   "base_numbering": 1,
   "nav_menu": {},
   "number_sections": true,
   "sideBar": true,
   "skip_h1_title": true,
   "title_cell": "Table of Contents",
   "title_sidebar": "Contents",
   "toc_cell": true,
   "toc_position": {},
   "toc_section_display": true,
   "toc_window_display": false
  }
 },
 "nbformat": 4,
 "nbformat_minor": 2
}
