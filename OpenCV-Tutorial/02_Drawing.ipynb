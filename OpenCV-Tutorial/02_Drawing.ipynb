{
 "cells": [
  {
   "cell_type": "markdown",
   "metadata": {
    "toc": true
   },
   "source": [
    "<h1>Table of Contents<span class=\"tocSkip\"></span></h1>\n",
    "<div class=\"toc\"><ul class=\"toc-item\"><li><span><a href=\"#Initialize-black-canvas\" data-toc-modified-id=\"Initialize-black-canvas-1\"><span class=\"toc-item-num\">1&nbsp;&nbsp;</span>Initialize black canvas</a></span></li><li><span><a href=\"#Line\" data-toc-modified-id=\"Line-2\"><span class=\"toc-item-num\">2&nbsp;&nbsp;</span>Line</a></span></li><li><span><a href=\"#Rectangle\" data-toc-modified-id=\"Rectangle-3\"><span class=\"toc-item-num\">3&nbsp;&nbsp;</span>Rectangle</a></span></li><li><span><a href=\"#Circle\" data-toc-modified-id=\"Circle-4\"><span class=\"toc-item-num\">4&nbsp;&nbsp;</span>Circle</a></span></li></ul></div>"
   ]
  },
  {
   "cell_type": "markdown",
   "metadata": {},
   "source": [
    "# Drawing"
   ]
  },
  {
   "cell_type": "markdown",
   "metadata": {},
   "source": [
    "## Initialize black canvas"
   ]
  },
  {
   "cell_type": "code",
   "execution_count": 1,
   "metadata": {},
   "outputs": [],
   "source": [
    "import numpy as np\n",
    "import cv2\n",
    "import matplotlib.pyplot as plt\n",
    "\n",
    "canvas = np.zeros((500, 500, 3), dtype='uint8')"
   ]
  },
  {
   "cell_type": "markdown",
   "metadata": {},
   "source": [
    "## Line"
   ]
  },
  {
   "cell_type": "code",
   "execution_count": 2,
   "metadata": {},
   "outputs": [
    {
     "data": {
      "image/png": "[encoded data removed]",
      "text/plain": [
       "<Figure size 432x288 with 1 Axes>"
      ]
     },
     "metadata": {
      "needs_background": "light"
     },
     "output_type": "display_data"
    }
   ],
   "source": [
    "color = (255, 0, 0)  # color in RGB format\n",
    "start = (0, 0)  # starting (x, y)-coordinates of line\n",
    "end = (250, 500)  # ending (x, y)-coordinates of line\n",
    "thickness = 10  # line will be 10 pixels wide\n",
    "\n",
    "cv2.line(canvas, start, end, color, thickness)\n",
    "\n",
    "plt.imshow(canvas)\n",
    "plt.show()"
   ]
  },
  {
   "cell_type": "markdown",
   "metadata": {},
   "source": [
    "## Rectangle"
   ]
  },
  {
   "cell_type": "code",
   "execution_count": 3,
   "metadata": {},
   "outputs": [
    {
     "data": {
      "image/png": "[encoded data removed]",
      "text/plain": [
       "<Figure size 432x288 with 1 Axes>"
      ]
     },
     "metadata": {
      "needs_background": "light"
     },
     "output_type": "display_data"
    }
   ],
   "source": [
    "canvas = np.zeros((500, 500, 3), dtype='uint8')\n",
    "\n",
    "color = (0, 255, 0)\n",
    "first_corner = (100, 100)\n",
    "second_corner = (400, 200)\n",
    "thickness = -1  # fill the rectangle\n",
    "\n",
    "cv2.rectangle(canvas, first_corner, second_corner, color, thickness)\n",
    "\n",
    "plt.imshow(canvas)\n",
    "plt.show()"
   ]
  },
  {
   "cell_type": "markdown",
   "metadata": {},
   "source": [
    "## Circle"
   ]
  },
  {
   "cell_type": "code",
   "execution_count": 4,
   "metadata": {},
   "outputs": [
    {
     "data": {
      "image/png": "[encoded data removed]",
      "text/plain": [
       "<Figure size 432x288 with 1 Axes>"
      ]
     },
     "metadata": {
      "needs_background": "light"
     },
     "output_type": "display_data"
    }
   ],
   "source": [
    "canvas = np.zeros((500, 500, 3), dtype='uint8')\n",
    "\n",
    "center_x, center_y = canvas.shape[0] // 2, canvas.shape[1] // 2\n",
    "blue = (0, 0, 255)\n",
    "thickness = 20\n",
    "\n",
    "for radius in range(0, 250, 50):\n",
    "    cv2.circle(canvas, (center_x, center_y), radius, blue, thickness)\n",
    "\n",
    "plt.imshow(canvas)\n",
    "plt.show()"
   ]
  }
 ],
 "metadata": {
  "kernelspec": {
   "display_name": "EnBW_kernel",
   "language": "python",
   "name": "enbw_kernel"
  },
  "language_info": {
   "codemirror_mode": {
    "name": "ipython",
    "version": 3
   },
   "file_extension": ".py",
   "mimetype": "text/x-python",
   "name": "python",
   "nbconvert_exporter": "python",
   "pygments_lexer": "ipython3",
   "version": "3.6.5"
  },
  "toc": {
   "base_numbering": 1,
   "nav_menu": {},
   "number_sections": true,
   "sideBar": true,
   "skip_h1_title": true,
   "title_cell": "Table of Contents",
   "title_sidebar": "Contents",
   "toc_cell": true,
   "toc_position": {},
   "toc_section_display": true,
   "toc_window_display": false
  }
 },
 "nbformat": 4,
 "nbformat_minor": 2
}
